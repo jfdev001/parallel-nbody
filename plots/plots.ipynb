{
 "cells": [
  {
   "cell_type": "code",
   "execution_count": 2,
   "metadata": {},
   "outputs": [],
   "source": [
    "# For making plots for the paper\n",
    "import matplotlib.pyplot as plt\n",
    "plt.style.use(\"seaborn-poster\")\n",
    "plt.rcParams[\"figure.figsize\"] = (10, 6) # 5/3"
   ]
  },
  {
   "cell_type": "code",
   "execution_count": 18,
   "metadata": {},
   "outputs": [
    {
     "name": "stdout",
     "output_type": "stream",
     "text": [
      "111 111 128\n"
     ]
    },
    {
     "data": {
      "text/plain": [
       "[(111, 128)]"
      ]
     },
     "execution_count": 18,
     "metadata": {},
     "output_type": "execute_result"
    }
   ],
   "source": [
    "N = 128\n",
    "NP = 7 \n",
    "NCORES = 16\n",
    "P = NP * NCORES\n",
    "\n",
    "\n",
    "lower_bounds = []\n",
    "upper_bounds = []\n",
    "ub_diff_lb_greater_than_one = []\n",
    "\n",
    "# In some cases the result of the mulplication is a bit strange...\n",
    "# example, if N//P is always 1, how is it that a range like (30, 32) is possible?\n",
    "for rank in range(P):\n",
    "    lb = (rank)*(N//P)  # This gives the intended loads where the last load is unbalanced\n",
    "    ub = (rank+1)*(N//P) if rank != P-1 else N\n",
    "    lower_bounds.append(lb)\n",
    "    upper_bounds.append(ub)\n",
    "\n",
    "    if ub - lb > 1:\n",
    "        print(rank, lb, ub)\n",
    "        ub_diff_lb_greater_than_one.append((lb, ub))\n",
    "\n",
    "ub_diff_lb_greater_than_one"
   ]
  },
  {
   "cell_type": "code",
   "execution_count": 16,
   "metadata": {},
   "outputs": [
    {
     "name": "stdout",
     "output_type": "stream",
     "text": [
      "(0, 1)\n",
      "(1, 2)\n",
      "(2, 3)\n",
      "(3, 4)\n",
      "(4, 5)\n",
      "(5, 6)\n",
      "(6, 8)\n",
      "(8, 9)\n",
      "(9, 10)\n",
      "(10, 11)\n",
      "(11, 12)\n",
      "(12, 13)\n",
      "(13, 14)\n",
      "(14, 16)\n",
      "(16, 17)\n",
      "(17, 18)\n",
      "(18, 19)\n",
      "(19, 20)\n",
      "(20, 21)\n",
      "(21, 22)\n",
      "(22, 24)\n",
      "(24, 25)\n",
      "(25, 26)\n",
      "(26, 27)\n",
      "(27, 28)\n",
      "(28, 29)\n",
      "(29, 30)\n",
      "(30, 32)\n",
      "(32, 33)\n",
      "(33, 34)\n",
      "(34, 35)\n",
      "(35, 36)\n",
      "(36, 37)\n",
      "(37, 38)\n",
      "(38, 40)\n",
      "(40, 41)\n",
      "(41, 42)\n",
      "(42, 43)\n",
      "(43, 44)\n",
      "(44, 45)\n",
      "(45, 46)\n",
      "(46, 48)\n",
      "(48, 49)\n",
      "(49, 50)\n",
      "(50, 51)\n",
      "(51, 52)\n",
      "(52, 53)\n",
      "(53, 54)\n",
      "(54, 56)\n",
      "(56, 57)\n",
      "(57, 58)\n",
      "(58, 59)\n",
      "(59, 60)\n",
      "(60, 61)\n",
      "(61, 62)\n",
      "(62, 64)\n",
      "(64, 65)\n",
      "(65, 66)\n",
      "(66, 67)\n",
      "(67, 68)\n",
      "(68, 69)\n",
      "(69, 70)\n",
      "(70, 72)\n",
      "(72, 73)\n",
      "(73, 74)\n",
      "(74, 75)\n",
      "(75, 76)\n",
      "(76, 77)\n",
      "(77, 78)\n",
      "(78, 80)\n",
      "(80, 81)\n",
      "(81, 82)\n",
      "(82, 83)\n",
      "(83, 84)\n",
      "(84, 85)\n",
      "(85, 86)\n",
      "(86, 88)\n",
      "(88, 89)\n",
      "(89, 90)\n",
      "(90, 91)\n",
      "(91, 92)\n",
      "(92, 93)\n",
      "(93, 94)\n",
      "(94, 96)\n",
      "(96, 97)\n",
      "(97, 98)\n",
      "(98, 99)\n",
      "(99, 100)\n",
      "(100, 101)\n",
      "(101, 102)\n",
      "(102, 104)\n",
      "(104, 105)\n",
      "(105, 106)\n",
      "(106, 107)\n",
      "(107, 108)\n",
      "(108, 109)\n",
      "(109, 110)\n",
      "(110, 112)\n",
      "(112, 113)\n",
      "(113, 114)\n",
      "(114, 115)\n",
      "(115, 116)\n",
      "(116, 117)\n",
      "(117, 118)\n",
      "(118, 120)\n",
      "(120, 121)\n",
      "(121, 122)\n",
      "(122, 123)\n",
      "(123, 124)\n",
      "(124, 125)\n",
      "(125, 126)\n",
      "(126, 128)\n"
     ]
    }
   ],
   "source": [
    "for p in zip(lower_bounds, upper_bounds):\n",
    "    print(p)"
   ]
  },
  {
   "cell_type": "code",
   "execution_count": 9,
   "metadata": {},
   "outputs": [
    {
     "data": {
      "text/plain": [
       "1"
      ]
     },
     "execution_count": 9,
     "metadata": {},
     "output_type": "execute_result"
    }
   ],
   "source": [
    "N//P"
   ]
  },
  {
   "cell_type": "code",
   "execution_count": null,
   "metadata": {},
   "outputs": [],
   "source": []
  }
 ],
 "metadata": {
  "kernelspec": {
   "display_name": "uva-cls",
   "language": "python",
   "name": "python3"
  },
  "language_info": {
   "codemirror_mode": {
    "name": "ipython",
    "version": 3
   },
   "file_extension": ".py",
   "mimetype": "text/x-python",
   "name": "python",
   "nbconvert_exporter": "python",
   "pygments_lexer": "ipython3",
   "version": "3.9.13"
  },
  "orig_nbformat": 4,
  "vscode": {
   "interpreter": {
    "hash": "19b6c55f889e367c526ebd4160b8f3e0a85504b2e209fb9677ca29cfec39dac2"
   }
  }
 },
 "nbformat": 4,
 "nbformat_minor": 2
}
