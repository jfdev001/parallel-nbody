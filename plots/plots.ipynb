{
 "cells": [
  {
   "cell_type": "code",
   "execution_count": 1,
   "metadata": {},
   "outputs": [],
   "source": [
    "# For making plots for the paper\n",
    "import matplotlib.pyplot as plt\n",
    "plt.style.use(\"seaborn-poster\")\n",
    "plt.rcParams[\"figure.figsize\"] = (10, 6) # 5/3"
   ]
  },
  {
   "cell_type": "code",
   "execution_count": 2,
   "metadata": {},
   "outputs": [
    {
     "name": "stdout",
     "output_type": "stream",
     "text": [
      "0 0 42\n",
      "1 42 84\n",
      "2 84 128\n"
     ]
    },
    {
     "data": {
      "text/plain": [
       "[(0, 42), (42, 84), (84, 128)]"
      ]
     },
     "execution_count": 2,
     "metadata": {},
     "output_type": "execute_result"
    }
   ],
   "source": [
    "N = 128\n",
    "NP = 3\n",
    "NCORES = 1\n",
    "P = NP * NCORES\n",
    "\n",
    "\n",
    "lower_bounds = []\n",
    "upper_bounds = []\n",
    "ub_diff_lb_greater_than_one = []\n",
    "\n",
    "# In some cases the result of the mulplication is a bit strange...\n",
    "# example, if N//P is always 1, how is it that a range like (30, 32) is possible?\n",
    "for rank in range(P):\n",
    "    lb = (rank)*(N//P)  # This gives the intended loads where the last load is unbalanced\n",
    "    ub = (rank+1)*(N//P) if rank != P-1 else N\n",
    "    lower_bounds.append(lb)\n",
    "    upper_bounds.append(ub)\n",
    "\n",
    "    if ub - lb > 1:\n",
    "        print(rank, lb, ub)\n",
    "        ub_diff_lb_greater_than_one.append((lb, ub))\n",
    "\n",
    "ub_diff_lb_greater_than_one"
   ]
  },
  {
   "cell_type": "code",
   "execution_count": 29,
   "metadata": {},
   "outputs": [
    {
     "name": "stdout",
     "output_type": "stream",
     "text": [
      "[128]\n",
      "[32, 32, 32, 32]\n",
      "[8, 8, 8, 8, 8, 8, 8, 8, 8, 8, 8, 8, 8, 8, 8, 8]\n",
      "[64, 64]\n",
      "[16, 16, 16, 16, 16, 16, 16, 16]\n",
      "[4, 4, 4, 4, 4, 4, 4, 4, 4, 4, 4, 4, 4, 4, 4, 4, 4, 4, 4, 4, 4, 4, 4, 4, 4, 4, 4, 4, 4, 4, 4, 4]\n",
      "[43, 43, 42]\n",
      "[11, 11, 11, 11, 11, 11, 11, 11, 10, 10, 10, 10]\n",
      "[3, 3, 3, 3, 3, 3, 3, 3, 3, 3, 3, 3, 3, 3, 3, 3, 3, 3, 3, 3, 3, 3, 3, 3, 3, 3, 3, 3, 3, 3, 3, 3, 2, 2, 2, 2, 2, 2, 2, 2, 2, 2, 2, 2, 2, 2, 2, 2]\n",
      "[32, 32, 32, 32]\n",
      "[8, 8, 8, 8, 8, 8, 8, 8, 8, 8, 8, 8, 8, 8, 8, 8]\n",
      "[2, 2, 2, 2, 2, 2, 2, 2, 2, 2, 2, 2, 2, 2, 2, 2, 2, 2, 2, 2, 2, 2, 2, 2, 2, 2, 2, 2, 2, 2, 2, 2, 2, 2, 2, 2, 2, 2, 2, 2, 2, 2, 2, 2, 2, 2, 2, 2, 2, 2, 2, 2, 2, 2, 2, 2, 2, 2, 2, 2, 2, 2, 2, 2]\n",
      "[26, 26, 26, 25, 25]\n",
      "[7, 7, 7, 7, 7, 7, 7, 7, 6, 6, 6, 6, 6, 6, 6, 6, 6, 6, 6, 6]\n",
      "[2, 2, 2, 2, 2, 2, 2, 2, 2, 2, 2, 2, 2, 2, 2, 2, 2, 2, 2, 2, 2, 2, 2, 2, 2, 2, 2, 2, 2, 2, 2, 2, 2, 2, 2, 2, 2, 2, 2, 2, 2, 2, 2, 2, 2, 2, 2, 2, 1, 1, 1, 1, 1, 1, 1, 1, 1, 1, 1, 1, 1, 1, 1, 1, 1, 1, 1, 1, 1, 1, 1, 1, 1, 1, 1, 1, 1, 1, 1, 1]\n",
      "[22, 22, 21, 21, 21, 21]\n",
      "[6, 6, 6, 6, 6, 6, 6, 6, 5, 5, 5, 5, 5, 5, 5, 5, 5, 5, 5, 5, 5, 5, 5, 5]\n",
      "[2, 2, 2, 2, 2, 2, 2, 2, 2, 2, 2, 2, 2, 2, 2, 2, 2, 2, 2, 2, 2, 2, 2, 2, 2, 2, 2, 2, 2, 2, 2, 2, 1, 1, 1, 1, 1, 1, 1, 1, 1, 1, 1, 1, 1, 1, 1, 1, 1, 1, 1, 1, 1, 1, 1, 1, 1, 1, 1, 1, 1, 1, 1, 1, 1, 1, 1, 1, 1, 1, 1, 1, 1, 1, 1, 1, 1, 1, 1, 1, 1, 1, 1, 1, 1, 1, 1, 1, 1, 1, 1, 1, 1, 1, 1, 1]\n",
      "[19, 19, 18, 18, 18, 18, 18]\n",
      "[5, 5, 5, 5, 5, 5, 5, 5, 5, 5, 5, 5, 5, 5, 5, 5, 4, 4, 4, 4, 4, 4, 4, 4, 4, 4, 4, 4]\n",
      "[2, 2, 2, 2, 2, 2, 2, 2, 2, 2, 2, 2, 2, 2, 2, 2, 1, 1, 1, 1, 1, 1, 1, 1, 1, 1, 1, 1, 1, 1, 1, 1, 1, 1, 1, 1, 1, 1, 1, 1, 1, 1, 1, 1, 1, 1, 1, 1, 1, 1, 1, 1, 1, 1, 1, 1, 1, 1, 1, 1, 1, 1, 1, 1, 1, 1, 1, 1, 1, 1, 1, 1, 1, 1, 1, 1, 1, 1, 1, 1, 1, 1, 1, 1, 1, 1, 1, 1, 1, 1, 1, 1, 1, 1, 1, 1, 1, 1, 1, 1, 1, 1, 1, 1, 1, 1, 1, 1, 1, 1, 1, 1]\n",
      "[16, 16, 16, 16, 16, 16, 16, 16]\n",
      "[4, 4, 4, 4, 4, 4, 4, 4, 4, 4, 4, 4, 4, 4, 4, 4, 4, 4, 4, 4, 4, 4, 4, 4, 4, 4, 4, 4, 4, 4, 4, 4]\n",
      "[1, 1, 1, 1, 1, 1, 1, 1, 1, 1, 1, 1, 1, 1, 1, 1, 1, 1, 1, 1, 1, 1, 1, 1, 1, 1, 1, 1, 1, 1, 1, 1, 1, 1, 1, 1, 1, 1, 1, 1, 1, 1, 1, 1, 1, 1, 1, 1, 1, 1, 1, 1, 1, 1, 1, 1, 1, 1, 1, 1, 1, 1, 1, 1, 1, 1, 1, 1, 1, 1, 1, 1, 1, 1, 1, 1, 1, 1, 1, 1, 1, 1, 1, 1, 1, 1, 1, 1, 1, 1, 1, 1, 1, 1, 1, 1, 1, 1, 1, 1, 1, 1, 1, 1, 1, 1, 1, 1, 1, 1, 1, 1, 1, 1, 1, 1, 1, 1, 1, 1, 1, 1, 1, 1, 1, 1, 1, 1]\n"
     ]
    }
   ],
   "source": [
    "# This is the most evenly load balanced data but how can this be determiend programmatically\n",
    "N = 128 \n",
    "\n",
    "# Most load balanced sizes\n",
    "def load_balanced_sizes(N, P):\n",
    "    sizes = [N//P for p in range(P)]\n",
    "    for rank in range(N%P):\n",
    "        sizes[rank] += 1\n",
    "    return sizes \n",
    "\n",
    "for NP in range(1, 9):\n",
    "    for NCORES in [1, 4, 16]:\n",
    "        P = NP * NCORES\n",
    "        sizes = load_balanced_sizes(N, P)\n",
    "        assert sum(sizes) == N\n",
    "        print(sizes)\n"
   ]
  },
  {
   "cell_type": "code",
   "execution_count": 33,
   "metadata": {},
   "outputs": [
    {
     "name": "stdout",
     "output_type": "stream",
     "text": [
      "[43, 43, 42]\n"
     ]
    }
   ],
   "source": [
    "# Given the sizes (which is the difference between ub and lb)\n",
    "# compute the lb and ub for the processes\n",
    "N = 128\n",
    "P = 3 \n",
    "\n",
    "# Displacements are cum sum of recvcounts (sizes)\n",
    "sizes = load_balanced_sizes(N=N, P=P)\n",
    "\n",
    "def get_displacements_from_recvcounts(recvcounts):\n",
    "    displacements = [0 for p in range(len(recvcounts))]\n",
    "    for rank in range(1, P):\n",
    "        displacements[rank] = displacements[rank-1] + sizes[rank]\n",
    "    return displacements\n",
    "\n",
    "displacements = get_displacements_from_recvcounts(recvcounts=sizes)\n",
    "\n",
    "assert sum(displacements) == N"
   ]
  },
  {
   "cell_type": "code",
   "execution_count": 3,
   "metadata": {},
   "outputs": [
    {
     "name": "stdout",
     "output_type": "stream",
     "text": [
      "(0, 42)\n",
      "(42, 84)\n",
      "(84, 128)\n"
     ]
    }
   ],
   "source": [
    "for p in zip(lower_bounds, upper_bounds):\n",
    "    print(p)"
   ]
  },
  {
   "cell_type": "code",
   "execution_count": 4,
   "metadata": {},
   "outputs": [
    {
     "data": {
      "text/plain": [
       "42"
      ]
     },
     "execution_count": 4,
     "metadata": {},
     "output_type": "execute_result"
    }
   ],
   "source": [
    "N//P"
   ]
  },
  {
   "cell_type": "code",
   "execution_count": null,
   "metadata": {},
   "outputs": [],
   "source": []
  }
 ],
 "metadata": {
  "kernelspec": {
   "display_name": "uva-cls",
   "language": "python",
   "name": "python3"
  },
  "language_info": {
   "codemirror_mode": {
    "name": "ipython",
    "version": 3
   },
   "file_extension": ".py",
   "mimetype": "text/x-python",
   "name": "python",
   "nbconvert_exporter": "python",
   "pygments_lexer": "ipython3",
   "version": "3.9.13"
  },
  "orig_nbformat": 4,
  "vscode": {
   "interpreter": {
    "hash": "19b6c55f889e367c526ebd4160b8f3e0a85504b2e209fb9677ca29cfec39dac2"
   }
  }
 },
 "nbformat": 4,
 "nbformat_minor": 2
}
