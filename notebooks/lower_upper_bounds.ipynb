{
 "cells": [
  {
   "cell_type": "code",
   "execution_count": 13,
   "metadata": {},
   "outputs": [
    {
     "name": "stdout",
     "output_type": "stream",
     "text": [
      "0 0 42\n",
      "1 42 84\n",
      "2 84 128\n"
     ]
    },
    {
     "data": {
      "text/plain": [
       "[(0, 42), (42, 84), (84, 128)]"
      ]
     },
     "execution_count": 13,
     "metadata": {},
     "output_type": "execute_result"
    }
   ],
   "source": [
    "# For investigating lower and upper bound problems\n",
    "N = 128\n",
    "NP = 3\n",
    "NCORES = 1\n",
    "P = NP * NCORES\n",
    "\n",
    "\n",
    "lower_bounds = []\n",
    "upper_bounds = []\n",
    "ub_diff_lb_greater_than_one = []\n",
    "\n",
    "# In some cases the result of the mulplication is a bit strange...\n",
    "# example, if N//P is always 1, how is it that a range like (30, 32) is possible?\n",
    "for rank in range(P):\n",
    "    lb = (rank)*(N//P)  # This gives the intended loads where the last load is unbalanced\n",
    "    ub = (rank+1)*(N//P) if rank != P-1 else N\n",
    "    lower_bounds.append(lb)\n",
    "    upper_bounds.append(ub)\n",
    "\n",
    "    if ub - lb > 1:\n",
    "        print(rank, lb, ub)\n",
    "        ub_diff_lb_greater_than_one.append((lb, ub))\n",
    "\n",
    "ub_diff_lb_greater_than_one"
   ]
  },
  {
   "cell_type": "code",
   "execution_count": 14,
   "metadata": {},
   "outputs": [
    {
     "name": "stdout",
     "output_type": "stream",
     "text": [
      "[128]\n",
      "[32, 32, 32, 32]\n",
      "[8, 8, 8, 8, 8, 8, 8, 8, 8, 8, 8, 8, 8, 8, 8, 8]\n",
      "[64, 64]\n",
      "[16, 16, 16, 16, 16, 16, 16, 16]\n",
      "[4, 4, 4, 4, 4, 4, 4, 4, 4, 4, 4, 4, 4, 4, 4, 4, 4, 4, 4, 4, 4, 4, 4, 4, 4, 4, 4, 4, 4, 4, 4, 4]\n",
      "[42, 43, 43]\n",
      "[10, 11, 11, 11, 11, 11, 11, 11, 11, 10, 10, 10]\n",
      "[2, 3, 3, 3, 3, 3, 3, 3, 3, 3, 3, 3, 3, 3, 3, 3, 3, 3, 3, 3, 3, 3, 3, 3, 3, 3, 3, 3, 3, 3, 3, 3, 3, 2, 2, 2, 2, 2, 2, 2, 2, 2, 2, 2, 2, 2, 2, 2]\n",
      "[32, 32, 32, 32]\n",
      "[8, 8, 8, 8, 8, 8, 8, 8, 8, 8, 8, 8, 8, 8, 8, 8]\n",
      "[2, 2, 2, 2, 2, 2, 2, 2, 2, 2, 2, 2, 2, 2, 2, 2, 2, 2, 2, 2, 2, 2, 2, 2, 2, 2, 2, 2, 2, 2, 2, 2, 2, 2, 2, 2, 2, 2, 2, 2, 2, 2, 2, 2, 2, 2, 2, 2, 2, 2, 2, 2, 2, 2, 2, 2, 2, 2, 2, 2, 2, 2, 2, 2]\n",
      "[25, 26, 26, 26, 25]\n",
      "[6, 7, 7, 7, 7, 7, 7, 7, 7, 6, 6, 6, 6, 6, 6, 6, 6, 6, 6, 6]\n",
      "[1, 2, 2, 2, 2, 2, 2, 2, 2, 2, 2, 2, 2, 2, 2, 2, 2, 2, 2, 2, 2, 2, 2, 2, 2, 2, 2, 2, 2, 2, 2, 2, 2, 2, 2, 2, 2, 2, 2, 2, 2, 2, 2, 2, 2, 2, 2, 2, 2, 1, 1, 1, 1, 1, 1, 1, 1, 1, 1, 1, 1, 1, 1, 1, 1, 1, 1, 1, 1, 1, 1, 1, 1, 1, 1, 1, 1, 1, 1, 1]\n",
      "[21, 22, 22, 21, 21, 21]\n",
      "[5, 6, 6, 6, 6, 6, 6, 6, 6, 5, 5, 5, 5, 5, 5, 5, 5, 5, 5, 5, 5, 5, 5, 5]\n",
      "[1, 2, 2, 2, 2, 2, 2, 2, 2, 2, 2, 2, 2, 2, 2, 2, 2, 2, 2, 2, 2, 2, 2, 2, 2, 2, 2, 2, 2, 2, 2, 2, 2, 1, 1, 1, 1, 1, 1, 1, 1, 1, 1, 1, 1, 1, 1, 1, 1, 1, 1, 1, 1, 1, 1, 1, 1, 1, 1, 1, 1, 1, 1, 1, 1, 1, 1, 1, 1, 1, 1, 1, 1, 1, 1, 1, 1, 1, 1, 1, 1, 1, 1, 1, 1, 1, 1, 1, 1, 1, 1, 1, 1, 1, 1, 1]\n",
      "[18, 19, 19, 18, 18, 18, 18]\n",
      "[4, 5, 5, 5, 5, 5, 5, 5, 5, 5, 5, 5, 5, 5, 5, 5, 5, 4, 4, 4, 4, 4, 4, 4, 4, 4, 4, 4]\n",
      "[1, 2, 2, 2, 2, 2, 2, 2, 2, 2, 2, 2, 2, 2, 2, 2, 2, 1, 1, 1, 1, 1, 1, 1, 1, 1, 1, 1, 1, 1, 1, 1, 1, 1, 1, 1, 1, 1, 1, 1, 1, 1, 1, 1, 1, 1, 1, 1, 1, 1, 1, 1, 1, 1, 1, 1, 1, 1, 1, 1, 1, 1, 1, 1, 1, 1, 1, 1, 1, 1, 1, 1, 1, 1, 1, 1, 1, 1, 1, 1, 1, 1, 1, 1, 1, 1, 1, 1, 1, 1, 1, 1, 1, 1, 1, 1, 1, 1, 1, 1, 1, 1, 1, 1, 1, 1, 1, 1, 1, 1, 1, 1]\n",
      "[16, 16, 16, 16, 16, 16, 16, 16]\n",
      "[4, 4, 4, 4, 4, 4, 4, 4, 4, 4, 4, 4, 4, 4, 4, 4, 4, 4, 4, 4, 4, 4, 4, 4, 4, 4, 4, 4, 4, 4, 4, 4]\n",
      "[1, 1, 1, 1, 1, 1, 1, 1, 1, 1, 1, 1, 1, 1, 1, 1, 1, 1, 1, 1, 1, 1, 1, 1, 1, 1, 1, 1, 1, 1, 1, 1, 1, 1, 1, 1, 1, 1, 1, 1, 1, 1, 1, 1, 1, 1, 1, 1, 1, 1, 1, 1, 1, 1, 1, 1, 1, 1, 1, 1, 1, 1, 1, 1, 1, 1, 1, 1, 1, 1, 1, 1, 1, 1, 1, 1, 1, 1, 1, 1, 1, 1, 1, 1, 1, 1, 1, 1, 1, 1, 1, 1, 1, 1, 1, 1, 1, 1, 1, 1, 1, 1, 1, 1, 1, 1, 1, 1, 1, 1, 1, 1, 1, 1, 1, 1, 1, 1, 1, 1, 1, 1, 1, 1, 1, 1, 1, 1]\n"
     ]
    }
   ],
   "source": [
    "# This is the most evenly load balanced data but how can this be determiend programmatically\n",
    "N = 128 \n",
    "\n",
    "# Most load balanced recvcounts\n",
    "def load_balanced_recvcounts(N, P):\n",
    "    recvcounts = [N//P for p in range(P)]\n",
    "    for rank in range(N%P, 0, -1):\n",
    "        recvcounts[rank] += 1\n",
    "    return recvcounts \n",
    "\n",
    "for NP in range(1, 9):\n",
    "    for NCORES in [1, 4, 16]:\n",
    "        P = NP * NCORES\n",
    "        recvcounts = load_balanced_recvcounts(N, P)\n",
    "        assert sum(recvcounts) == N\n",
    "        print(recvcounts)\n"
   ]
  },
  {
   "cell_type": "code",
   "execution_count": 18,
   "metadata": {},
   "outputs": [
    {
     "name": "stdout",
     "output_type": "stream",
     "text": [
      "[42, 43, 43]\n",
      "[0, 42, 85]\n"
     ]
    }
   ],
   "source": [
    "# Given the recvcounts (which is the difference between ub and lb)\n",
    "# compute the lb and ub for the processes\n",
    "N = 128\n",
    "P = 3 \n",
    "\n",
    "# Displacements are cum sum of recvcounts (recvcounts)\n",
    "recvcounts = load_balanced_recvcounts(N=N, P=P)\n",
    "\n",
    "def get_displacements_from_recvcounts(recvcounts):\n",
    "    displacements = [0 for p in range(len(recvcounts))]\n",
    "    for rank in range(1, P):\n",
    "        displacements[rank] = displacements[rank-1] + recvcounts[rank-1]\n",
    "    return displacements\n",
    "\n",
    "displacements = get_displacements_from_recvcounts(recvcounts=recvcounts)\n",
    "\n",
    "print(recvcounts)\n",
    "print(displacements)"
   ]
  },
  {
   "cell_type": "code",
   "execution_count": 21,
   "metadata": {},
   "outputs": [
    {
     "name": "stdout",
     "output_type": "stream",
     "text": [
      "(0, 42)\n",
      "(42, 85)\n",
      "(85, 128)\n"
     ]
    }
   ],
   "source": [
    "def bounds_from_displacements_and_recvcounts(displacements, recvcounts):\n",
    "    lower_bounds = []\n",
    "    upper_bounds = []\n",
    "    for rank in range(len(recvcounts)):\n",
    "        lower_bounds.append(displacements[rank])\n",
    "        upper_bounds.append(displacements[rank] + recvcounts[rank])\n",
    "    return zip(lower_bounds, upper_bounds)\n",
    "\n",
    "for p in bounds_from_displacements_and_recvcounts(displacements, recvcounts):\n",
    "    print(p)"
   ]
  },
  {
   "cell_type": "code",
   "execution_count": null,
   "metadata": {},
   "outputs": [
    {
     "data": {
      "text/plain": [
       "42"
      ]
     },
     "execution_count": 9,
     "metadata": {},
     "output_type": "execute_result"
    }
   ],
   "source": [
    "N//P"
   ]
  },
  {
   "cell_type": "code",
   "execution_count": null,
   "metadata": {},
   "outputs": [],
   "source": []
  }
 ],
 "metadata": {
  "kernelspec": {
   "display_name": "uva-cls",
   "language": "python",
   "name": "python3"
  },
  "language_info": {
   "codemirror_mode": {
    "name": "ipython",
    "version": 3
   },
   "file_extension": ".py",
   "mimetype": "text/x-python",
   "name": "python",
   "nbconvert_exporter": "python",
   "pygments_lexer": "ipython3",
   "version": "3.9.13"
  },
  "orig_nbformat": 4,
  "vscode": {
   "interpreter": {
    "hash": "19b6c55f889e367c526ebd4160b8f3e0a85504b2e209fb9677ca29cfec39dac2"
   }
  }
 },
 "nbformat": 4,
 "nbformat_minor": 2
}
